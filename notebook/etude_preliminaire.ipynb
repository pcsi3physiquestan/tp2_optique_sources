{
 "cells": [
  {
   "cell_type": "markdown",
   "id": "federal-scope",
   "metadata": {},
   "source": [
    "Cette partie du TP constitue l'étude préliminaire qui doit être réalisée __avant le TP.__ Les questions posées doivent avoir une réponse écrite (vous pouvez tout à fait faire cette étude de manière manuscrite)."
   ]
  },
  {
   "cell_type": "markdown",
   "id": "important-verse",
   "metadata": {},
   "source": [
    "# Etude préliminaire"
   ]
  },
  {
   "cell_type": "markdown",
   "id": "faced-costume",
   "metadata": {},
   "source": [
    "## Présentation rapide du matériel."
   ]
  },
  {
   "cell_type": "markdown",
   "id": "answering-challenge",
   "metadata": {},
   "source": [
    "### Présentation\n",
    "Voici une liste non exhaustive du matériel que vous utiliserez en TP :\n",
    "* __Banc d'optique et cavaliers__ : pour réaliser des montages en facilitant l'alignement des composants et pour réaliser des mesures de positions\n",
    "* __Lentilles minces__\n",
    "* __Miroir plan__\n",
    "* __Lanterne et objet__ diaphragmant pour réaliser un objet lumineux\n",
    "* __Viseur__ : Sert à mesurer la position d'objet ou la distance entre deux objets\n",
    "* __Lunette afocale__ : Sert à étudier des objets à l'infini. On peut aussi s'en servir pour vérifier qu'un objet est bien à l'infini.\n",
    "* __Collimateur__ : Sert à simuler un objet _étendu_ à l'infini.\n",
    "\n",
    "Regarder la vidéo suivante (il faut exécutez la cellule de code) pour obtenir quelques explications sur les premiers composants que vous allez utiliser (_ne pas hésitez à mettre en pause la vidéo pour lire les explications_)."
   ]
  },
  {
   "cell_type": "code",
   "execution_count": null,
   "id": "deluxe-insulin",
   "metadata": {},
   "outputs": [],
   "source": [
    "%%HTML\n",
    "<video width=\"640\" height=\"480\" controls>\n",
    "  <source src=\"./videos/intru-divers.mp4\" type=\"video/mp4\">\n",
    "</video>"
   ]
  },
  {
   "cell_type": "markdown",
   "id": "toxic-delta",
   "metadata": {},
   "source": [
    "### Analyse\n",
    "Répondre (à l'écrit) aux questions suivantes:\n",
    "1. Le cavalier palcé sur le banc optique permet de supporter une lentille, un objet, un écran... La mesure _directe_ par les graduations situées sur le banc optique donnent-elles une __position absolue__ de composant sur le banc optique ? ou un distance entre deux objets sur le banc optique ? Quelle conséquence cela aura sur l'estimation d'une incertitude d'une distance (par exemple une distance lentille-écran) ?\n",
    "2. Pour déterminer rapidement le caractère convergent ou divergent d'une lentille, une méthode simple consiste à observer un objet lointain avec la lentille.\n",
    "    1. Expliquer quel sens semi-quantitatif donner au terme __lointain__ pour une lentille de distance focale $f'$ ? Quelle approximation peut-on faire pour une étude théorique?\n",
    "    2. Faire un schéma de tracé de rayon donnant l'image de l'objet lointain dans le cas d'une lentille convergente puis dans le cas d'une lentille divergente. Comment pourra-t-on faire la différence entre les deux?"
   ]
  },
  {
   "cell_type": "markdown",
   "id": "assigned-element",
   "metadata": {},
   "source": [
    "## Instruments d'optique\n",
    "\n",
    "On va maintenant présenter trois instruments particuliers : la lunette afocale, le collimateur et le viseur. Commencez par observer les trois vidéos de présentation du matériel ci-dessous (Exécutez la cellule)."
   ]
  },
  {
   "cell_type": "code",
   "execution_count": 1,
   "id": "outstanding-touch",
   "metadata": {},
   "outputs": [
    {
     "data": {
      "text/html": [
       "<video width=\"640\" height=\"480\" controls>\n",
       "  <source src=\"./videos/instru-lunette.mp4\" type=\"video/mp4\">\n",
       "</video>\n",
       "\n",
       "<video width=\"640\" height=\"480\" controls>\n",
       "  <source src=\"./videos/instru-collimateur.mp4\" type=\"video/mp4\">\n",
       "</video>\n",
       "\n",
       "<video width=\"640\" height=\"480\" controls>\n",
       "  <source src=\"./videos/instru-viseur.mp4\" type=\"video/mp4\">\n",
       "</video>\n"
      ],
      "text/plain": [
       "<IPython.core.display.HTML object>"
      ]
     },
     "metadata": {},
     "output_type": "display_data"
    }
   ],
   "source": [
    "%%HTML\n",
    "<video width=\"640\" height=\"480\" controls>\n",
    "  <source src=\"./videos/instru-lunette.mp4\" type=\"video/mp4\">\n",
    "</video>\n",
    "\n",
    "<video width=\"640\" height=\"480\" controls>\n",
    "  <source src=\"./videos/instru-collimateur.mp4\" type=\"video/mp4\">\n",
    "</video>\n",
    "\n",
    "<video width=\"640\" height=\"480\" controls>\n",
    "  <source src=\"./videos/instru-viseur.mp4\" type=\"video/mp4\">\n",
    "</video>"
   ]
  },
  {
   "cell_type": "markdown",
   "id": "limited-electricity",
   "metadata": {},
   "source": [
    "## Lentilles minces. Etude rapide.\n",
    "Il est très utile de pouvoir déterminer rapidement le caractère divergent ou divergent d'une lentille. Nous allons donner quelques éléments.\n",
    "\n",
    "1. Prendre deux lentilles de focale connue, l'une divergente, l'autre convergente. Observer la concavité des deux faces des lentilles et proposer ci-dessous un premier moyen pour distinguer une lentille convergente d'une lentille divergente.\n",
    "\n",
    "... __Votre réponse__ (_Double cliquer sur la cellule pour l'éditer_.) ...\n",
    "\n",
    "_Cette méthode a ses limites car il n'est pas toujours simple d'observer la concavité des deux faces._\n",
    "\n",
    "2. Observer à l'aide de chaque lentille un objet lointain. Observer les caractéristiques de l'image observées pour chaque type de lentille (droite/inversée, agrandie/rétrécie). _Il est possible que vous deviez tendre le bras pour observer l'image nette._ Proposer ci-dessous une méthode pour distinguer une lentille convergente d'une lentille divergente.\n",
    "\n",
    "... __Votre réponse__ (_Double cliquer sur la cellule pour l'éditer_.) __Vous devez notamment__:\n",
    "* _Expliquer quel sens semi-quantitatif donner au terme \"lointain\" et l'approximation qu'on va faire pour exploiter les observations._\n",
    "* _Faire deux schémas à enregistrer sous les noms `lointain_dv.png` et `lointain_cv.png` représentant le tracé des rayons donnant l'image et expliquer les différences d'observations. Vous placerez ces fichiers dans le même répertoire que ce notebook. Ces images s'afficheront ainsi dans votre notebook grâce aux instructions ci-dessous._\n",
    "* _Conclure en présentant le protocole de détermination rapide du caractère convergent ou divergent.\n",
    "..."
   ]
  }
 ],
 "metadata": {
  "jupytext": {
   "encoding": "# -*- coding: utf-8 -*-",
   "formats": "ipynb,md:myst",
   "split_at_heading": true,
   "text_representation": {
    "extension": ".md",
    "format_name": "myst",
    "format_version": 0.13,
    "jupytext_version": "1.11.1"
   }
  },
  "kernelspec": {
   "display_name": "Python 3",
   "language": "python",
   "name": "python3"
  },
  "language_info": {
   "codemirror_mode": {
    "name": "ipython",
    "version": 3
   },
   "file_extension": ".py",
   "mimetype": "text/x-python",
   "name": "python",
   "nbconvert_exporter": "python",
   "pygments_lexer": "ipython3",
   "version": "3.9.2"
  }
 },
 "nbformat": 4,
 "nbformat_minor": 5
}
